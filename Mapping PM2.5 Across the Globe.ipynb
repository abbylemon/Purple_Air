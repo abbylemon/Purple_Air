{
 "cells": [
  {
   "cell_type": "code",
   "execution_count": 1,
   "metadata": {},
   "outputs": [],
   "source": [
    "import requests\n",
    "import pandas as pd\n",
    "import gmaps\n",
    "\n",
    "from config import gkey, epakey\n",
    "\n",
    "gmaps.configure(api_key=gkey)"
   ]
  },
  {
   "cell_type": "code",
   "execution_count": null,
   "metadata": {},
   "outputs": [],
   "source": []
  },
  {
   "cell_type": "code",
   "execution_count": 2,
   "metadata": {},
   "outputs": [
    {
     "data": {
      "text/plain": [
       "{'ID': 14633,\n",
       " 'Label': ' Hazelwood canary ',\n",
       " 'DEVICE_LOCATIONTYPE': 'outside',\n",
       " 'THINGSPEAK_PRIMARY_ID': '559921',\n",
       " 'THINGSPEAK_PRIMARY_ID_READ_KEY': 'CU4BQZZ38WO5UJ4C',\n",
       " 'THINGSPEAK_SECONDARY_ID': '559922',\n",
       " 'THINGSPEAK_SECONDARY_ID_READ_KEY': 'D0YNZ1LM59LL49VQ',\n",
       " 'Lat': 37.275561,\n",
       " 'Lon': -121.964134,\n",
       " 'PM2_5Value': '0.9',\n",
       " 'LastSeen': 1579128023,\n",
       " 'Type': 'PMS5003+PMS5003+BME280',\n",
       " 'Hidden': 'false',\n",
       " 'isOwner': 0,\n",
       " 'humidity': '36',\n",
       " 'temp_f': '66',\n",
       " 'pressure': '1007.74',\n",
       " 'AGE': 1,\n",
       " 'Stats': '{\"v\":0.9,\"v1\":0.83,\"v2\":0.94,\"v3\":1.11,\"v4\":1.89,\"v5\":2.57,\"v6\":5.39,\"pm\":0.9,\"lastModified\":1579128023773,\"timeSinceModified\":120066}'}"
      ]
     },
     "execution_count": 2,
     "metadata": {},
     "output_type": "execute_result"
    }
   ],
   "source": [
    "base_url = \"https://www.purpleair.com/json\"\n",
    "response = requests.get(base_url)\n",
    "puruple_air = response.json()\n",
    "\n",
    "puruple_air['results'][0]"
   ]
  },
  {
   "cell_type": "code",
   "execution_count": 3,
   "metadata": {},
   "outputs": [
    {
     "name": "stdout",
     "output_type": "stream",
     "text": [
      "Pulling data from 0th PurpleAir devices...\n",
      "Pulling data from 1000th PurpleAir devices...\n",
      "Pulling data from 2000th PurpleAir devices...\n",
      "Pulling data from 3000th PurpleAir devices...\n",
      "Pulling data from 4000th PurpleAir devices...\n",
      "Pulling data from 5000th PurpleAir devices...\n",
      "Pulling data from 6000th PurpleAir devices...\n",
      "Pulling data from 7000th PurpleAir devices...\n",
      "Pulling data from 8000th PurpleAir devices...\n",
      "Pulling data from 9000th PurpleAir devices...\n",
      "Pulling data from 10000th PurpleAir devices...\n",
      "Pulling data from 11000th PurpleAir devices...\n",
      "Pulling data from 12000th PurpleAir devices...\n",
      "Pulling data from 13000th PurpleAir devices...\n",
      "Pulling data from 14000th PurpleAir devices...\n",
      "Pulling data from 15000th PurpleAir devices...\n",
      "Pulling data from 16000th PurpleAir devices...\n",
      "Pulling data from 17000th PurpleAir devices...\n",
      "Pulling data from 18000th PurpleAir devices...\n",
      "Pulling data from 19000th PurpleAir devices...\n",
      "Pulling data from 20000th PurpleAir devices...\n",
      "Pulling data from 21000th PurpleAir devices...\n",
      "Pulling data from 22000th PurpleAir devices...\n",
      "Pulling data from 23000th PurpleAir devices...\n",
      "Pulling data from 24000th PurpleAir devices...\n",
      "Pulling data from 25000th PurpleAir devices...\n",
      "Pulling data from 26000th PurpleAir devices...\n",
      "Pulling data from 27000th PurpleAir devices...\n",
      "Pulling data from 28000th PurpleAir devices...\n",
      "Pulling data from 29000th PurpleAir devices...\n",
      "Pulling data from 30000th PurpleAir devices...\n",
      "Pulling data from 31000th PurpleAir devices...\n",
      "Pulling data from 32000th PurpleAir devices...\n",
      "Pulling data from 33000th PurpleAir devices...\n",
      "Pulling data from 34000th PurpleAir devices...\n",
      "Pulling data from 35000th PurpleAir devices...\n",
      "Pulling data from 36000th PurpleAir devices...\n",
      "Pulling data from 37000th PurpleAir devices...\n",
      "Pulling data from 38000th PurpleAir devices...\n",
      "Pulling data from 39000th PurpleAir devices...\n",
      "Pulling data from 40000th PurpleAir devices...\n",
      "Pulling data from 41000th PurpleAir devices...\n",
      "Pulling data from 42000th PurpleAir devices...\n",
      "Pulling data from 43000th PurpleAir devices...\n",
      "Pulling data from 44000th PurpleAir devices...\n",
      "Pulling data from 45000th PurpleAir devices...\n",
      "Pulling data from 46000th PurpleAir devices...\n",
      "Pulling data from 47000th PurpleAir devices...\n",
      "Pulling data from 48000th PurpleAir devices...\n",
      "Pulling data from 49000th PurpleAir devices...\n",
      "Pulling data from 50000th PurpleAir devices...\n",
      "Pulling data from 51000th PurpleAir devices...\n",
      "Pulling data from 52000th PurpleAir devices...\n",
      "Pulling data from 53000th PurpleAir devices...\n",
      "Pulling data from 54000th PurpleAir devices...\n",
      "Pulling data from 55000th PurpleAir devices...\n",
      "Pulling data from 56000th PurpleAir devices...\n",
      "Pulling data from 57000th PurpleAir devices...\n",
      "Pulling data from 58000th PurpleAir devices...\n",
      "Pulling data from 59000th PurpleAir devices...\n",
      "Pulling data from 60000th PurpleAir devices...\n",
      "Pulling data from 61000th PurpleAir devices...\n",
      "Pulling data from 62000th PurpleAir devices...\n",
      "Pulling data from 63000th PurpleAir devices...\n",
      "Pulling data from 64000th PurpleAir devices...\n",
      "Pulling data from 65000th PurpleAir devices...\n",
      "Pulling data from 66000th PurpleAir devices...\n",
      "Pulling data from 67000th PurpleAir devices...\n",
      "Pulling data from 68000th PurpleAir devices...\n",
      "Pulling data from 69000th PurpleAir devices...\n",
      "Pulling data from 70000th PurpleAir devices...\n",
      "Pulling data from 71000th PurpleAir devices...\n",
      "Pulling data from 72000th PurpleAir devices...\n",
      "Pulling data from 73000th PurpleAir devices...\n",
      "Pulling data from 74000th PurpleAir devices...\n",
      "Pulling data from 75000th PurpleAir devices...\n",
      "Pulling data from 76000th PurpleAir devices...\n",
      "Pulling data from 77000th PurpleAir devices...\n",
      "Pulling data from 78000th PurpleAir devices...\n",
      "Pulling data from 79000th PurpleAir devices...\n",
      "Pulling data from 80000th PurpleAir devices...\n",
      "Pulling data from 81000th PurpleAir devices...\n",
      "Pulling data from 82000th PurpleAir devices...\n",
      "Pulling data from 83000th PurpleAir devices...\n",
      "Pulling data from 84000th PurpleAir devices...\n",
      "Pulling data from 85000th PurpleAir devices...\n",
      "Pulling data from 86000th PurpleAir devices...\n",
      "Pulling data from 87000th PurpleAir devices...\n",
      "Pulling data from 88000th PurpleAir devices...\n",
      "Pulling data from 89000th PurpleAir devices...\n",
      "Pulling data from 90000th PurpleAir devices...\n",
      "Pulling data from 91000th PurpleAir devices...\n",
      "Pulling data from 92000th PurpleAir devices...\n",
      "Pulling data from 93000th PurpleAir devices...\n",
      "Pulling data from 94000th PurpleAir devices...\n",
      "Pulling data from 95000th PurpleAir devices...\n",
      "Pulling data from 96000th PurpleAir devices...\n",
      "Pulling data from 97000th PurpleAir devices...\n",
      "Pulling data from 98000th PurpleAir devices...\n",
      "Pulling data from 99000th PurpleAir devices...\n"
     ]
    }
   ],
   "source": [
    "purple_air_df = pd.DataFrame()\n",
    "purple_air_df[\"Index\"] = [x for x in range(10000)]\n",
    "purple_air_df[\"Device ID\"] = \"\"\n",
    "purple_air_df[\"Device Location\"] = \"\"\n",
    "purple_air_df[\"Latitude\"] = \"\"\n",
    "purple_air_df[\"Longitude\"] = \"\"\n",
    "purple_air_df[\"PM2_5 Value\"] = \"\"\n",
    "purple_air_df['Humidity'] = \"\"\n",
    "purple_air_df[\"Temperature (F)\"] = \"\"\n",
    "purple_air_df[\"Pressure\"] = \"\"\n",
    "\n",
    "\n",
    "for x in range(10000):\n",
    "    \n",
    "    if x % 1000 == 0:\n",
    "        print(f\"Pulling data from {x}th PurpleAir devices...\")\n",
    "    try:\n",
    "        \n",
    "        purple_air_df.loc[x, 'Device ID'] = puruple_air['results'][x]['ID']\n",
    "        purple_air_df.loc[x, 'Device Location'] = puruple_air['results'][x]['DEVICE_LOCATIONTYPE']\n",
    "        purple_air_df.loc[x, 'Latitude'] = puruple_air['results'][x]['Lat']\n",
    "        purple_air_df.loc[x, 'Longitude'] = puruple_air['results'][x]['Lon']\n",
    "        purple_air_df.loc[x, 'PM2_5 Value'] = puruple_air['results'][x]['PM2_5Value']\n",
    "        purple_air_df.loc[x, 'Humidity'] = puruple_air['results'][x]['humidity']\n",
    "        purple_air_df.loc[x, 'Temperature (F)'] = puruple_air['results'][x]['temp_f']\n",
    "        purple_air_df.loc[x, 'Pressure'] = puruple_air['results'][x]['pressure']\n",
    "\n",
    "    except:\n",
    "        pass\n",
    "#         print(\"Missing field/results... skipping.\")\n",
    "        \n",
    "#     print(\"--------------------------------\")"
   ]
  },
  {
   "cell_type": "code",
   "execution_count": 4,
   "metadata": {},
   "outputs": [
    {
     "data": {
      "text/plain": [
       "6895"
      ]
     },
     "execution_count": 4,
     "metadata": {},
     "output_type": "execute_result"
    }
   ],
   "source": [
    "# purple_air_df = purple_air_df.drop(columns=['Index'])\n",
    "purple_air_df.dtypes\n",
    "purple_air_nozero_df = purple_air_df.loc[(purple_air_df['PM2_5 Value']!=\"\")\n",
    "                                         &(purple_air_df['Latitude']!=\"\")\n",
    "#                                          &(purple_air_df['Device Location']=='outside')\n",
    "                                        ]\n",
    "locations = purple_air_nozero_df[[\"Latitude\", \"Longitude\"]].astype(float)\n",
    "PM = purple_air_nozero_df[['PM2_5 Value']].astype(float)\n",
    "len(PM)"
   ]
  },
  {
   "cell_type": "code",
   "execution_count": 5,
   "metadata": {},
   "outputs": [
    {
     "data": {
      "application/vnd.jupyter.widget-view+json": {
       "model_id": "495e55889cb447a7a7c125d2b060c693",
       "version_major": 2,
       "version_minor": 0
      },
      "text/plain": [
       "Figure(layout=FigureLayout(height='420px'))"
      ]
     },
     "metadata": {},
     "output_type": "display_data"
    }
   ],
   "source": [
    "fig = gmaps.figure()\n",
    "\n",
    "heat_layer = gmaps.heatmap_layer(locations, weights=PM['PM2_5 Value'],\n",
    "                                dissipating=True, max_intensity=500,\n",
    "                                point_radius=5)\n",
    "\n",
    "fig.add_layer(heat_layer)\n",
    "\n",
    "fig"
   ]
  },
  {
   "cell_type": "code",
   "execution_count": null,
   "metadata": {},
   "outputs": [],
   "source": []
  }
 ],
 "metadata": {
  "kernelspec": {
   "display_name": "Python 3",
   "language": "python",
   "name": "python3"
  },
  "language_info": {
   "codemirror_mode": {
    "name": "ipython",
    "version": 3
   },
   "file_extension": ".py",
   "mimetype": "text/x-python",
   "name": "python",
   "nbconvert_exporter": "python",
   "pygments_lexer": "ipython3",
   "version": "3.6.9"
  }
 },
 "nbformat": 4,
 "nbformat_minor": 2
}
