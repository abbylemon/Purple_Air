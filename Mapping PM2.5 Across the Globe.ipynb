{
 "cells": [
  {
   "cell_type": "code",
   "execution_count": null,
   "metadata": {},
   "outputs": [],
   "source": [
    "import requests\n",
    "import pandas as pd\n",
    "import gmaps\n",
    "import numpy as np\n",
    "\n",
    "from config import gkey, epakey\n",
    "\n",
    "gmaps.configure(api_key=gkey)"
   ]
  },
  {
   "cell_type": "code",
   "execution_count": null,
   "metadata": {},
   "outputs": [],
   "source": [
    "base_url = \"https://www.purpleair.com/json\"\n",
    "response = requests.get(base_url)\n",
    "puruple_air = response.json()\n",
    "\n",
    "puruple_air['results'][0]"
   ]
  },
  {
   "cell_type": "code",
   "execution_count": null,
   "metadata": {},
   "outputs": [],
   "source": [
    "purple_air_df = pd.DataFrame()\n",
    "purple_air_df[\"Index\"] = [x for x in range(10000)]\n",
    "purple_air_df[\"Device ID\"] = \"\"\n",
    "purple_air_df[\"Device Location\"] = \"\"\n",
    "purple_air_df[\"Latitude\"] = \"\"\n",
    "purple_air_df[\"Longitude\"] = \"\"\n",
    "purple_air_df[\"PM2_5 Value\"] = \"\"\n",
    "purple_air_df['Humidity'] = \"\"\n",
    "purple_air_df[\"Temperature (F)\"] = \"\"\n",
    "purple_air_df[\"Pressure\"] = \"\"\n",
    "\n",
    "\n",
    "for x in range(10000):\n",
    "    \n",
    "    if x % 1000 == 0:\n",
    "        print(f\"Pulling data from {x}th PurpleAir devices...\")\n",
    "    try:\n",
    "        \n",
    "        purple_air_df.loc[x, 'Device ID'] = puruple_air['results'][x]['ID']\n",
    "        purple_air_df.loc[x, 'Device Location'] = puruple_air['results'][x]['DEVICE_LOCATIONTYPE']\n",
    "        purple_air_df.loc[x, 'Latitude'] = puruple_air['results'][x]['Lat']\n",
    "        purple_air_df.loc[x, 'Longitude'] = puruple_air['results'][x]['Lon']\n",
    "        purple_air_df.loc[x, 'PM2_5 Value'] = puruple_air['results'][x]['PM2_5Value']\n",
    "        purple_air_df.loc[x, 'Humidity'] = puruple_air['results'][x]['humidity']\n",
    "        purple_air_df.loc[x, 'Temperature (F)'] = puruple_air['results'][x]['temp_f']\n",
    "        purple_air_df.loc[x, 'Pressure'] = puruple_air['results'][x]['pressure']\n",
    "\n",
    "    except:\n",
    "        pass\n",
    "#         print(\"Missing field/results... skipping.\")\n",
    "        \n",
    "#     print(\"--------------------------------\")"
   ]
  },
  {
   "cell_type": "code",
   "execution_count": null,
   "metadata": {},
   "outputs": [],
   "source": [
    "# purple_air_df = purple_air_df.drop(columns=['Index'])\n",
    "purple_air_df.dtypes\n",
    "purple_air_nozero_df = purple_air_df.loc[(purple_air_df['PM2_5 Value']!=\"\")\n",
    "                                         &(purple_air_df['Latitude']!=\"\")\n",
    "#                                          &(purple_air_df['Device Location']=='outside')\n",
    "                                        ]\n",
    "locations = purple_air_nozero_df[[\"Latitude\", \"Longitude\"]].astype(float)\n",
    "PM = purple_air_nozero_df[['PM2_5 Value']].astype(float)\n",
    "len(PM)"
   ]
  },
  {
   "cell_type": "code",
   "execution_count": null,
   "metadata": {},
   "outputs": [],
   "source": [
    "fig = gmaps.figure()\n",
    "\n",
    "heat_layer = gmaps.heatmap_layer(locations, weights=PM['PM2_5 Value'],\n",
    "                                dissipating=True, max_intensity=500,\n",
    "                                point_radius=5)\n",
    "\n",
    "fig.add_layer(heat_layer)\n",
    "\n",
    "fig"
   ]
  },
  {
   "cell_type": "code",
   "execution_count": null,
   "metadata": {},
   "outputs": [],
   "source": [
    "id = '14633'\n",
    "id_url = f'https://www.purpleair.com/json?show={id}'\n",
    "response = requests.get(id_url)\n",
    "puruple_air = response.json()\n",
    "\n",
    "puruple_air['results'][0]"
   ]
  },
  {
   "cell_type": "code",
   "execution_count": null,
   "metadata": {},
   "outputs": [],
   "source": [
    "deviceIDs = purple_air_nozero_df['Device ID']\n",
    "len(deviceIDs)\n",
    "id_url = 'https://www.purpleair.com/json?show=' + str(deviceIDs[30])\n",
    "print(id_url)\n",
    "response = requests.get(id_url)\n",
    "device_results = response.json()\n",
    "device_results['results'][0]"
   ]
  },
  {
   "cell_type": "code",
   "execution_count": null,
   "metadata": {},
   "outputs": [],
   "source": [
    "PM25And10_df = pd.DataFrame()\n",
    "PM25And10_df[\"Index\"] = [x for x in range(len(deviceIDs))]\n",
    "PM25And10_df[\"Device ID\"] = \"\"\n",
    "PM25And10_df[\"Device Location\"] = \"\"\n",
    "PM25And10_df[\"Latitude\"] = \"\"\n",
    "PM25And10_df[\"Longitude\"] = \"\"\n",
    "PM25And10_df[\"PM1_0 Value\"] = \"\"\n",
    "PM25And10_df[\"PM2_5 Value\"] = \"\"\n",
    "PM25And10_df[\"PM10 Value\"] = \"\"\n",
    "PM25And10_df['Humidity'] = \"\"\n",
    "PM25And10_df[\"Temperature (F)\"] = \"\"\n",
    "PM25And10_df[\"Pressure\"] = \"\"\n",
    "\n",
    "x = 0\n",
    "for deviceID in deviceIDs:\n",
    "    id_url = 'https://www.purpleair.com/json?show=' + str(deviceID)\n",
    "    response = requests.get(id_url)\n",
    "    device_results = response.json()\n",
    "    \n",
    "    if x % 100 == 0:\n",
    "        print(f'Quering unit with ID: {deviceID}')\n",
    "    \n",
    "    try:\n",
    "\n",
    "        PM25And10_df.loc[x, 'Device ID'] = device_results['results'][0]['ID']\n",
    "        PM25And10_df.loc[x, 'Device Location'] = device_results['results'][0]['DEVICE_LOCATIONTYPE']\n",
    "        PM25And10_df.loc[x, 'Latitude'] = device_results['results'][0]['Lat']\n",
    "        PM25And10_df.loc[x, 'Longitude'] = device_results['results'][0]['Lon']\n",
    "        PM25And10_df.loc[x, 'PM1_0 Value'] = device_results['results'][0]['pm1_0_atm']\n",
    "        PM25And10_df.loc[x, 'PM2_5 Value'] = device_results['results'][0]['pm2_5_atm']\n",
    "        PM25And10_df.loc[x, 'PM10 Value'] = device_results['results'][0]['pm10_0_atm']\n",
    "        PM25And10_df.loc[x, 'Humidity'] = device_results['results'][0]['humidity']\n",
    "        PM25And10_df.loc[x, 'Temperature (F)'] = device_results['results'][0]['temp_f']\n",
    "        PM25And10_df.loc[x, 'Pressure'] = device_results['results'][0]['pressure']\n",
    "        \n",
    "    except:\n",
    "        print(f'Could not query unit with ID: {deviceID}')\n",
    "        pass\n",
    "    \n",
    "    x += 1\n",
    "    \n",
    "now = pd.to_datetime(\"now\")\n",
    "dateHour = str(now).split(':')[0]\n",
    "print(dateHour)"
   ]
  },
  {
   "cell_type": "code",
   "execution_count": null,
   "metadata": {},
   "outputs": [],
   "source": [
    "PM25And10_df.dtypes\n",
    "tointcols = ['Device ID', 'Humidity', 'Temperature (F)']\n",
    "tofloatcols = ['Latitude', 'Latitude', 'PM1_0 Value', 'PM2_5 Value', 'PM10 Value', 'Pressure']\n",
    "\n",
    "for col in tointcols:\n",
    "    PM25And10_df = PM25And10_df[PM25And10_df[col]!='']\n",
    "    PM25And10_df = PM25And10_df.astype({col: 'int'})\n",
    "    \n",
    "for col in tofloatcols:\n",
    "    PM25And10_df = PM25And10_df[PM25And10_df[col]!='']\n",
    "    PM25And10_df = PM25And10_df.astype({col: 'float'})\n",
    "    \n",
    "PM25And10_df.dtypes"
   ]
  },
  {
   "cell_type": "code",
   "execution_count": null,
   "metadata": {},
   "outputs": [],
   "source": [
    "# Calculate the AQI values\n",
    "def calcAQI(Cp, Ih, Il, BPh, BPl):\n",
    "    a = (Ih - Il)\n",
    "    b = (BPh - BPl)\n",
    "    c = (Cp - BPl)\n",
    "    \n",
    "    return np.round((a/b) * c + Il)"
   ]
  },
  {
   "cell_type": "code",
   "execution_count": null,
   "metadata": {},
   "outputs": [],
   "source": [
    "# PM2.5 Calculation\n",
    "def calcPM2_5AQI(df, PM2_5Column):\n",
    "    for i in range(len(PM2_5Column)):\n",
    "        try:\n",
    "            if PM2_5Column[i] <= 12.0:\n",
    "                df['PM2_5 AQI'] = calcAQI(PM2_5Column[i], 50, 0, 12, 0)\n",
    "\n",
    "            elif PM2_5Column[i] <= 35.4:\n",
    "                df['PM2_5 AQI'] = calcAQI(PM2_5Column[i], 100, 51, 35.4, 12.1)\n",
    "\n",
    "            elif PM2_5Column[i] <= 55.4:\n",
    "                df['PM2_5 AQI'] = calcAQI(PM2_5Column[i], 150, 101, 55.4, 35.5)\n",
    "\n",
    "            elif PM2_5Column[i] <= 150.4:\n",
    "                df['PM2_5 AQI'] = calcAQI(PM2_5Column[i], 200, 151, 150.4, 55.5)\n",
    "\n",
    "            elif PM2_5Column[i] <= 500.4:\n",
    "                df['PM2_5 AQI'] = calcAQI(PM2_5Column[i], 500, 201, 500.4, 150.5)\n",
    "\n",
    "            elif PM2_5Column[i] > 500.4:\n",
    "                df['PM2_5 AQI'] = 500\n",
    "\n",
    "            else:\n",
    "                df['PM2_5 AQI'] = 'NaN'\n",
    "        except:\n",
    "            print(f'No value at index of {i}')\n",
    "            pass"
   ]
  },
  {
   "cell_type": "code",
   "execution_count": null,
   "metadata": {},
   "outputs": [],
   "source": [
    "# PM10 Calculation\n",
    "def calcPM10AQI(df, PM10Column):\n",
    "    for i in range(len(PM10Column)):\n",
    "        try:\n",
    "            if PM10Column[i] <= 54:\n",
    "                df['PM10 AQI'] = calcAQI(PM10Column[i], 50, 0, 54, 0)\n",
    "\n",
    "            elif PM10Column[i] <= 154:\n",
    "                df['PM10 AQI'] = calcAQI(PM10Column[i], 100, 51, 154, 55)\n",
    "\n",
    "            elif PM10Column[i] <= 254:\n",
    "                df['PM10 AQI'] = calcAQI(PM10Column[i], 150, 101, 254, 155)\n",
    "\n",
    "            elif PM10Column[i] <= 354:\n",
    "                df['PM10 AQI'] = calcAQI(PM10Column[i], 200, 151, 354, 255)\n",
    "\n",
    "            elif PM10Column[i] <= 604:\n",
    "                df['PM10 AQI'] = calcAQI(PM10Column[i], 500, 201, 604, 355)\n",
    "\n",
    "            elif PM10Column[i] > 604:\n",
    "                df['PM10 AQI'] = 500\n",
    "\n",
    "            else:\n",
    "                df['PM10 AQI'] = 'NaN'\n",
    "        except:\n",
    "            print(f'No value at index of {i}')\n",
    "            pass"
   ]
  },
  {
   "cell_type": "code",
   "execution_count": null,
   "metadata": {},
   "outputs": [],
   "source": [
    "calcPM2_5AQI(PM25And10_df, PM25And10_df['PM2_5 Value'])\n",
    "calcPM10AQI(PM25And10_df, PM25And10_df['PM10 Value'])\n",
    "\n",
    "PM25And10_df.head()"
   ]
  },
  {
   "cell_type": "code",
   "execution_count": null,
   "metadata": {},
   "outputs": [],
   "source": [
    "CountPM10Higher = len(PM25And10_df.loc[PM25And10_df['PM10 AQI']>PM25And10_df['PM2_5 AQI'], :])\n",
    "CountPM10Higher"
   ]
  },
  {
   "cell_type": "code",
   "execution_count": null,
   "metadata": {},
   "outputs": [],
   "source": [
    "PM25And10_df.to_excel('PM10HigherThanPM2_5.xlsx', f\"{dateHour}_count{int(CountPM10Higher)}\")"
   ]
  }
 ],
 "metadata": {
  "kernelspec": {
   "display_name": "Python 3",
   "language": "python",
   "name": "python3"
  },
  "language_info": {
   "codemirror_mode": {
    "name": "ipython",
    "version": 3
   },
   "file_extension": ".py",
   "mimetype": "text/x-python",
   "name": "python",
   "nbconvert_exporter": "python",
   "pygments_lexer": "ipython3",
   "version": "3.6.9"
  }
 },
 "nbformat": 4,
 "nbformat_minor": 2
}
